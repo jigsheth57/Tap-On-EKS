{
 "cells": [
  {
   "cell_type": "markdown",
   "metadata": {},
   "source": [
    "# Installing Secure Harbor Registry\n",
    "\n",
    "1. You have EKS Cluster available.\n",
    "2. You've installed prerequisties CLIs (see [README](./README.md))\n",
    "3. Download and install following Tanzu Software from [TanzuNet](https://network.pivotal.io)\n",
    "    - Cluster Essentials for VMware Tanzu\n",
    "    - VMware Tanzu Application Platform"
   ]
  },
  {
   "cell_type": "markdown",
   "metadata": {},
   "source": [
    "#### Download Tanzu softwares"
   ]
  },
  {
   "cell_type": "code",
   "execution_count": null,
   "metadata": {},
   "outputs": [],
   "source": [
    "pivnet login --api-token=$API_TOKEN\n",
    "export PRODUCT_DOWNLOAD_DIR=$HOME/Downloads/tanzu-products\n",
    "mkdir $PRODUCT_DOWNLOAD_DIR\n",
    "pivnet download-product-files --product-slug='tanzu-cluster-essentials' --release-version='1.0.0' --product-file-id=1105820 --download-dir=$PRODUCT_DOWNLOAD_DIR --accept-eula\n",
    "pivnet download-product-files --product-slug='tanzu-application-platform' --release-version='1.0.1-build.6' --product-file-id=1114446 --download-dir=$PRODUCT_DOWNLOAD_DIR --accept-eula"
   ]
  },
  {
   "cell_type": "markdown",
   "metadata": {},
   "source": [
    "#### Install Tanzu CLIs and Plugins"
   ]
  },
  {
   "cell_type": "code",
   "execution_count": null,
   "metadata": {},
   "outputs": [],
   "source": [
    "mkdir $HOME/tanzu\n",
    "tar -xvf $PRODUCT_DOWNLOAD_DIR/tanzu-framework-darwin-amd64.tar -C $HOME/tanzu\n",
    "export TANZU_CLI_NO_INIT=true\n",
    "cd $HOME/tanzu\n",
    "install cli/core/v0.10.0/tanzu-core-darwin_amd64 /usr/local/bin/tanzu\n",
    "tanzu version"
   ]
  },
  {
   "cell_type": "code",
   "execution_count": null,
   "metadata": {},
   "outputs": [],
   "source": [
    "tanzu plugin install --local cli all\n",
    "tanzu plugin list"
   ]
  },
  {
   "cell_type": "markdown",
   "metadata": {},
   "source": [
    "#### Install Cluster Essentials\n",
    "- This will install Carvel Tooling (Kapp and SecretGen Controller) on the EKS Cluster. Note: make sure to configure your system environment with `export TANZU_NET_USER=YourTanzuNetID && export TANZU_NET_PASSWORD=YourTanzuNetPassword`"
   ]
  },
  {
   "cell_type": "code",
   "execution_count": null,
   "metadata": {},
   "outputs": [],
   "source": [
    "mkdir $HOME/tanzu-cluster-essentials\n",
    "tar -xvf $PRODUCT_DOWNLOAD_DIR/tanzu-cluster-essentials-darwin-amd64-1.0.0.tgz -C $HOME/tanzu-cluster-essentials\n",
    "export INSTALL_BUNDLE=registry.tanzu.vmware.com/tanzu-cluster-essentials/cluster-essentials-bundle@sha256:82dfaf70656b54dcba0d4def85ccae1578ff27054e7533d08320244af7fb0343\n",
    "export INSTALL_REGISTRY_HOSTNAME=registry.tanzu.vmware.com\n",
    "export INSTALL_REGISTRY_USERNAME=$TANZU_NET_USER\n",
    "export INSTALL_REGISTRY_PASSWORD=$TANZU_NET_PASSWORD\n",
    "cd $HOME/tanzu-cluster-essentials\n",
    "./install.sh\n",
    "kapp ls -A"
   ]
  },
  {
   "cell_type": "markdown",
   "metadata": {},
   "source": [
    "#### Install TAP Package Repository\n",
    "- This will install TAP Package Repository, which we will use to install CertManager & Contour Packages"
   ]
  },
  {
   "cell_type": "code",
   "execution_count": null,
   "metadata": {},
   "outputs": [],
   "source": [
    "kubectl create ns tap-install\n",
    "tanzu secret registry add tap-registry \\\n",
    "  --username ${INSTALL_REGISTRY_USERNAME} --password ${INSTALL_REGISTRY_PASSWORD} \\\n",
    "  --server ${INSTALL_REGISTRY_HOSTNAME} \\\n",
    "  --export-to-all-namespaces --yes --namespace tap-install\n",
    "tanzu package repository add tanzu-tap-repository \\\n",
    "  --url registry.tanzu.vmware.com/tanzu-application-platform/tap-packages:1.0.0 \\\n",
    "  --namespace tap-install  "
   ]
  },
  {
   "cell_type": "markdown",
   "metadata": {},
   "source": [
    "- Wait for TAP Package Repository to Reconcile successfully"
   ]
  },
  {
   "cell_type": "code",
   "execution_count": null,
   "metadata": {},
   "outputs": [],
   "source": [
    "tanzu package repository list --namespace tap-install"
   ]
  },
  {
   "cell_type": "markdown",
   "metadata": {},
   "source": [
    "#### Install Certmanager Package"
   ]
  },
  {
   "cell_type": "code",
   "execution_count": null,
   "metadata": {},
   "outputs": [],
   "source": [
    "cat <<EOF | kubectl apply -f -\n",
    "apiVersion: rbac.authorization.k8s.io/v1\n",
    "kind: ClusterRole\n",
    "metadata:\n",
    "  name: cert-manager-tap-install-cluster-admin-role\n",
    "rules:\n",
    "- apiGroups:\n",
    "  - '*'\n",
    "  resources:\n",
    "  - '*'\n",
    "  verbs:\n",
    "  - '*'\n",
    "---\n",
    "apiVersion: rbac.authorization.k8s.io/v1\n",
    "kind: ClusterRoleBinding\n",
    "metadata:\n",
    "  name: cert-manager-tap-install-cluster-admin-role-binding\n",
    "roleRef:\n",
    "  apiGroup: rbac.authorization.k8s.io\n",
    "  kind: ClusterRole\n",
    "  name: cert-manager-tap-install-cluster-admin-role\n",
    "subjects:\n",
    "- kind: ServiceAccount\n",
    "  name: cert-manager-tap-install-sa\n",
    "  namespace: tap-install\n",
    "---\n",
    "apiVersion: v1\n",
    "kind: ServiceAccount\n",
    "metadata:\n",
    "  name: cert-manager-tap-install-sa\n",
    "  namespace: tap-install\n",
    "EOF\n",
    "\n",
    "cat <<EOF | kubectl apply -f -\n",
    "apiVersion: packaging.carvel.dev/v1alpha1\n",
    "kind: PackageInstall\n",
    "metadata:\n",
    "  name: cert-manager\n",
    "  namespace: tap-install\n",
    "spec:\n",
    "  serviceAccountName: cert-manager-tap-install-sa\n",
    "  packageRef:\n",
    "    refName: cert-manager.tanzu.vmware.com\n",
    "    versionSelection:\n",
    "      constraints: \"1.5.3+tap.1\"\n",
    "      prereleases: {}\n",
    "EOF"
   ]
  },
  {
   "cell_type": "markdown",
   "metadata": {},
   "source": [
    "- Validate Certmanager packaged installed successfully."
   ]
  },
  {
   "cell_type": "code",
   "execution_count": null,
   "metadata": {},
   "outputs": [],
   "source": [
    "kapp inspect -a cert-manager-ctrl -n tap-install"
   ]
  },
  {
   "cell_type": "markdown",
   "metadata": {},
   "source": [
    "#### Install Contour Package"
   ]
  },
  {
   "cell_type": "code",
   "execution_count": null,
   "metadata": {},
   "outputs": [],
   "source": [
    "cat <<EOF | kubectl apply -f -\n",
    "apiVersion: rbac.authorization.k8s.io/v1\n",
    "kind: ClusterRole\n",
    "metadata:\n",
    "  name: contour-tap-install-cluster-admin-role\n",
    "rules:\n",
    "- apiGroups:\n",
    "  - '*'\n",
    "  resources:\n",
    "  - '*'\n",
    "  verbs:\n",
    "  - '*'\n",
    "---\n",
    "apiVersion: rbac.authorization.k8s.io/v1\n",
    "kind: ClusterRoleBinding\n",
    "metadata:\n",
    "  name: contour-tap-install-cluster-admin-role-binding\n",
    "roleRef:\n",
    "  apiGroup: rbac.authorization.k8s.io\n",
    "  kind: ClusterRole\n",
    "  name: contour-tap-install-cluster-admin-role\n",
    "subjects:\n",
    "- kind: ServiceAccount\n",
    "  name: contour-tap-install-sa\n",
    "  namespace: tap-install\n",
    "---\n",
    "apiVersion: v1\n",
    "kind: ServiceAccount\n",
    "metadata:\n",
    "  name: contour-tap-install-sa\n",
    "  namespace: tap-install\n",
    "EOF\n",
    "\n",
    "cat <<EOF | kubectl apply -f -\n",
    "apiVersion: packaging.carvel.dev/v1alpha1\n",
    "kind: PackageInstall\n",
    "metadata:\n",
    "  name: contour\n",
    "  namespace: tap-install\n",
    "spec:\n",
    "  serviceAccountName: contour-tap-install-sa\n",
    "  packageRef:\n",
    "    refName: contour.tanzu.vmware.com\n",
    "    versionSelection:\n",
    "      constraints: \"1.18.2+tap.1\"\n",
    "      prereleases: {}\n",
    "  values:\n",
    "  - secretRef:\n",
    "      name: contour-values\n",
    "---\n",
    "apiVersion: v1\n",
    "kind: Secret\n",
    "metadata:\n",
    "  name: contour-values\n",
    "  namespace: tap-install\n",
    "stringData:\n",
    "  values.yaml: |\n",
    "    envoy:\n",
    "      service:\n",
    "        type: LoadBalancer\n",
    "    infrastructure_provider: aws\n",
    "EOF"
   ]
  },
  {
   "cell_type": "markdown",
   "metadata": {},
   "source": [
    "- Validate Contour packaged installed successfully."
   ]
  },
  {
   "cell_type": "code",
   "execution_count": null,
   "metadata": {},
   "outputs": [],
   "source": [
    "kapp inspect -a contour-ctrl -n tap-install"
   ]
  },
  {
   "cell_type": "markdown",
   "metadata": {},
   "source": [
    "#### Install Harbor using Bitnami repo\n",
    "- Note: Change following variables below with your accessable domain. \n",
    "    - externalURL: https://harbor.aws.tanzuapps.org\n",
    "    - core: harbor.aws.tanzuapps.org\n",
    "    - notary: notary.harbor.aws.tanzuapps.org"
   ]
  },
  {
   "cell_type": "code",
   "execution_count": null,
   "metadata": {},
   "outputs": [],
   "source": [
    "cat <<EOF | kubectl apply -f -\n",
    "apiVersion: cert-manager.io/v1\n",
    "kind: ClusterIssuer\n",
    "metadata:\n",
    "  name: letsencrypt-http01-issuer\n",
    "spec:\n",
    "  acme:\n",
    "    privateKeySecretRef:\n",
    "      name: letsencrypt\n",
    "    server: https://acme-v02.api.letsencrypt.org/directory\n",
    "    solvers:\n",
    "    - http01:\n",
    "        ingress:\n",
    "          class: contour\n",
    "EOF\n",
    "\n",
    "helm repo add bitnami https://charts.bitnami.com/bitnami\n",
    "cat <<EOF >harbor-values.yml\n",
    "# Configuration file of Harbor\n",
    "\n",
    "# Uncomment external_url if you want to enable external proxy\n",
    "# And when it enabled the hostname will no longer used\n",
    "externalURL: https://harbor.aws.tanzuapps.org\n",
    "\n",
    "service.type: Ingress\n",
    "\n",
    "ingress:\n",
    "  enabled: true\n",
    "  hosts:\n",
    "    core: harbor.aws.tanzuapps.org\n",
    "    notary: notary.harbor.aws.tanzuapps.org\n",
    "  annotations:\n",
    "    ingress.kubernetes.io/ssl-redirect: \"true\"\n",
    "    nginx.ingress.kubernetes.io/ssl-redirect: \"true\"\n",
    "    cert-manager.io/cluster-issuer: \"letsencrypt-http01-issuer\"\n",
    "    kubernetes.io/tls-acme: \"true\"\n",
    "    kubernetes.io/ingress.class: \"contour\"\n",
    "\n",
    "persistence:\n",
    "  persistentVolumeClaim:\n",
    "    registry:\n",
    "      size: 50Gi\n",
    "EOF\n",
    "\n",
    "kubectl create ns harbor\n",
    "helm install harbor bitnami/harbor --version 11.2.2 --namespace harbor -f harbor-values.yml"
   ]
  },
  {
   "cell_type": "markdown",
   "metadata": {},
   "source": [
    "- Register your domain with Route53 or others based on record below...."
   ]
  },
  {
   "cell_type": "code",
   "execution_count": null,
   "metadata": {},
   "outputs": [],
   "source": [
    "kubectl get ing -n harbor"
   ]
  }
 ],
 "metadata": {
  "kernelspec": {
   "display_name": "Bash",
   "language": "bash",
   "name": "bash"
  },
  "language_info": {
   "codemirror_mode": "shell",
   "file_extension": ".sh",
   "mimetype": "text/x-sh",
   "name": "bash"
  }
 },
 "nbformat": 4,
 "nbformat_minor": 2
}
