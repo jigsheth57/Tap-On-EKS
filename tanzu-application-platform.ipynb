{
 "cells": [
  {
   "cell_type": "markdown",
   "metadata": {},
   "source": [
    "## Use Tanzu Application Platform to deliver secure consistent workloads"
   ]
  },
  {
   "cell_type": "markdown",
   "metadata": {},
   "source": [
    "1) Create repo to store delivery artifects (Optional)"
   ]
  },
  {
   "cell_type": "code",
   "execution_count": null,
   "metadata": {},
   "outputs": [],
   "source": [
    "curl -u $GIT_USERNAME:$GIT_TOKEN https://api.github.com/user/repos -d '{\"name\":\"delivery-service-pet-clinic\"}'\n",
    "cd /Users/jigneshsheth/Documents/GitHub\n",
    "mkdir -p delivery-service-pet-clinic\n",
    "cd delivery-service-pet-clinic\n",
    "touch README.md\n",
    "git init -b main\n",
    "git add README.md\n",
    "git commit -m \"first commit\"\n",
    "git remote add origin git@github.com:jigsheth57/delivery-service-pet-clinic.git\n",
    "git push -u origin main"
   ]
  },
  {
   "cell_type": "code",
   "execution_count": null,
   "metadata": {},
   "outputs": [],
   "source": [
    "cd /Users/jigneshsheth/Documents/GitHub/service-pet-clinic\n",
    "tanzu apps workload create service-pet-clinic \\\n",
    "--git-repo https://github.com/jigsheth57/service-pet-clinic \\\n",
    "--git-branch main \\\n",
    "--app service-pet-clinic \\\n",
    "--type web \\\n",
    "--label apps.tanzu.vmware.com/has-tests=true \\\n",
    "--live-update=true \\\n",
    "--namespace demo \\\n",
    "--service-ref \"db=sql.tanzu.vmware.com/v1:Postgres:petclinic-db\" \\\n",
    "--env SPRING_PROFILES_ACTIVE=postgres --yes\n"
   ]
  },
  {
   "cell_type": "code",
   "execution_count": null,
   "metadata": {},
   "outputs": [],
   "source": [
    "tanzu apps workload tail service-pet-clinic --namespace demo --since 10m --timestamp"
   ]
  }
 ],
 "metadata": {
  "kernelspec": {
   "display_name": "Bash",
   "language": "bash",
   "name": "bash"
  },
  "language_info": {
   "codemirror_mode": "shell",
   "file_extension": ".sh",
   "mimetype": "text/x-sh",
   "name": "bash"
  }
 },
 "nbformat": 4,
 "nbformat_minor": 2
}
