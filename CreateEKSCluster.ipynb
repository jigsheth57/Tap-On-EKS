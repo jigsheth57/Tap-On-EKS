{
 "cells": [
  {
   "cell_type": "markdown",
   "metadata": {},
   "source": [
    "# 1) Initialize Stack for EKS Cluster Provisioning (run only once)\n",
    "### Create Stack using Cloud Formation (VPC, etc.)\n",
    "#### Required following CLIs installed in your mac.\n",
    "  - AWS ([brew install awscli](https://formulae.brew.sh/formula/awscli))\n",
    "  - Kubectl ([brew install kubernetes-cli](https://formulae.brew.sh/formula/kubernetes-cli#default))\n",
    "  - Kubectx ([brew install kubectx](https://formulae.brew.sh/formula/kubectx#default))\n",
    "  - Jq ([brew install jq](https://formulae.brew.sh/formula/jq#default))\n",
    "#### Note: Configure `aws` cli to [work with your credentials](https://docs.aws.amazon.com/cli/latest/userguide/cli-configure-files.html)."
   ]
  },
  {
   "cell_type": "code",
   "execution_count": null,
   "metadata": {},
   "outputs": [],
   "source": [
    "export EKS_REGION=us-east-2\n",
    "export EKS_NODES_SSH_KEY=tanzu"
   ]
  },
  {
   "cell_type": "code",
   "execution_count": null,
   "metadata": {},
   "outputs": [],
   "source": [
    "aws cloudformation create-stack \\\n",
    "  --region ${EKS_REGION} \\\n",
    "  --stack-name eks-vpc-stack \\\n",
    "  --template-url https://amazon-eks.s3.us-west-2.amazonaws.com/cloudformation/2020-10-29/amazon-eks-vpc-private-subnets.yaml"
   ]
  },
  {
   "cell_type": "code",
   "execution_count": null,
   "metadata": {},
   "outputs": [],
   "source": [
    "Check status to see if Stack creation completed before proceeding further."
   ]
  },
  {
   "cell_type": "code",
   "execution_count": null,
   "metadata": {},
   "outputs": [],
   "source": [
    "aws cloudformation describe-stacks --region us-east-2 --stack-name eks-vpc-stack --output json | jq -r '.Stacks[].StackStatus'"
   ]
  },
  {
   "cell_type": "markdown",
   "metadata": {},
   "source": [
    "### Create EKS Control Plane Role"
   ]
  },
  {
   "cell_type": "code",
   "execution_count": null,
   "metadata": {},
   "outputs": [],
   "source": [
    "cat <<EOF > cluster-role-trust-policy.json\n",
    "{\n",
    "  \"Version\": \"2012-10-17\",\n",
    "  \"Statement\": [\n",
    "    {\n",
    "      \"Effect\": \"Allow\",\n",
    "      \"Principal\": {\n",
    "        \"Service\": \"eks.amazonaws.com\"\n",
    "      },\n",
    "      \"Action\": \"sts:AssumeRole\"\n",
    "    }\n",
    "  ]\n",
    "}\n",
    "EOF\n",
    "\n",
    "aws iam create-role \\\n",
    "  --role-name AWSEKSClusterRole \\\n",
    "  --assume-role-policy-document file://\"cluster-role-trust-policy.json\"\n",
    "    \n",
    "aws iam attach-role-policy \\\n",
    "  --policy-arn arn:aws:iam::aws:policy/AmazonEKSClusterPolicy \\\n",
    "  --role-name AWSEKSClusterRole"
   ]
  },
  {
   "cell_type": "markdown",
   "metadata": {},
   "source": [
    "### Create EKS Worker Nodes Role"
   ]
  },
  {
   "cell_type": "code",
   "execution_count": null,
   "metadata": {},
   "outputs": [],
   "source": [
    "cat <<EOF > node-role-trust-policy.json\n",
    "{\n",
    "  \"Version\": \"2012-10-17\",\n",
    "  \"Statement\": [\n",
    "    {\n",
    "      \"Effect\": \"Allow\",\n",
    "      \"Principal\": {\n",
    "        \"Service\": \"ec2.amazonaws.com\"\n",
    "      },\n",
    "      \"Action\": \"sts:AssumeRole\"\n",
    "    }\n",
    "  ]\n",
    "}\n",
    "EOF\n",
    "\n",
    "aws iam create-role \\\n",
    "  --role-name AWSEKSNodeRole \\\n",
    "  --assume-role-policy-document file://\"node-role-trust-policy.json\"\n",
    "\n",
    "aws iam attach-role-policy \\\n",
    "  --policy-arn arn:aws:iam::aws:policy/AmazonEKSWorkerNodePolicy \\\n",
    "  --role-name AWSEKSNodeRole\n",
    "\n",
    "aws iam attach-role-policy \\\n",
    "  --policy-arn arn:aws:iam::aws:policy/AmazonEC2ContainerRegistryReadOnly \\\n",
    "  --role-name AWSEKSNodeRole\n",
    "\n",
    "aws iam attach-role-policy \\\n",
    "  --policy-arn arn:aws:iam::aws:policy/AmazonEKS_CNI_Policy \\\n",
    "  --role-name AWSEKSNodeRole"
   ]
  },
  {
   "cell_type": "markdown",
   "metadata": {},
   "source": [
    "# 2) Create EKS Cluster"
   ]
  },
  {
   "cell_type": "markdown",
   "metadata": {},
   "source": [
    "#### update environment variable below for your cluster name"
   ]
  },
  {
   "cell_type": "code",
   "execution_count": null,
   "metadata": {},
   "outputs": [],
   "source": [
    "export EKS_REGION=us-east-2\n",
    "export EKS_NODES_SSH_KEY=tanzu\n",
    "export EKS_CLUSTER_NAME=eks-democluster-03"
   ]
  },
  {
   "cell_type": "code",
   "execution_count": null,
   "metadata": {},
   "outputs": [],
   "source": [
    "export EKS_CLUSTER_ROLE=$(aws iam get-role --role-name AWSEKSClusterRole --output json | jq -r .Role.Arn)\n",
    "export EKS_NODE_ROLE=$(aws iam get-role --role-name AWSEKSNodeRole --output json | jq -r .Role.Arn)\n",
    "export EKS_VPC_ID=$(aws cloudformation describe-stacks --region us-east-2 --stack-name eks-vpc-stack --output json | jq -r '.Stacks[].Outputs[] | select(.OutputKey==\"VpcId\").OutputValue')\n",
    "export EKS_SUBNETS_ID=$(aws cloudformation describe-stacks --region us-east-2 --stack-name eks-vpc-stack --output json | jq -r '.Stacks[].Outputs[] | select(.OutputKey==\"SubnetIds\").OutputValue')\n",
    "export EKS_CONTROL_PLANE_SG=$(aws cloudformation describe-stacks --region us-east-2 --stack-name eks-vpc-stack --output json | jq -r '.Stacks[].Outputs[] | select(.OutputKey==\"SecurityGroups\").OutputValue')\n",
    "env | grep EKS_"
   ]
  },
  {
   "cell_type": "markdown",
   "metadata": {},
   "source": [
    "### Create Control Plan for EKS"
   ]
  },
  {
   "cell_type": "code",
   "execution_count": null,
   "metadata": {},
   "outputs": [],
   "source": [
    "aws eks create-cluster \\\n",
    "--region ${EKS_REGION} \\\n",
    "--name ${EKS_CLUSTER_NAME} \\\n",
    "--kubernetes-version 1.21 \\\n",
    "--role-arn ${EKS_CLUSTER_ROLE} \\\n",
    "--resources-vpc-config subnetIds=${EKS_SUBNETS_ID},securityGroupIds=${EKS_CONTROL_PLANE_SG}"
   ]
  },
  {
   "cell_type": "markdown",
   "metadata": {},
   "source": [
    "#### Check Status of the EKS ControlPlane ... wait for the controlplane to be Active .. takes ~15min"
   ]
  },
  {
   "cell_type": "code",
   "execution_count": null,
   "metadata": {},
   "outputs": [],
   "source": [
    "aws eks describe-cluster --name ${EKS_CLUSTER_NAME} | jq -r .cluster.status"
   ]
  },
  {
   "cell_type": "markdown",
   "metadata": {},
   "source": [
    "### Create Worker Nodes for EKS"
   ]
  },
  {
   "cell_type": "code",
   "execution_count": null,
   "metadata": {},
   "outputs": [],
   "source": [
    "aws eks create-nodegroup \\\n",
    "   --cluster-name ${EKS_CLUSTER_NAME} \\\n",
    "   --region ${EKS_REGION} \\\n",
    "   --nodegroup-name large-vms \\\n",
    "   --disk-size 50 \\\n",
    "   --ami-type AL2_x86_64 \\\n",
    "   --capacity-type ON_DEMAND \\\n",
    "   --instance-types m5.large \\\n",
    "   --node-role ${EKS_NODE_ROLE} \\\n",
    "   --remote-access ec2SshKey=${EKS_NODES_SSH_KEY},sourceSecurityGroups=sg-0ac5b651eb2dc759f \\\n",
    "   --scaling-config desiredSize=5,maxSize=5,minSize=5 \\\n",
    "   --subnets $(echo ${EKS_SUBNETS_ID} | sed \"s/,/ /g\")"
   ]
  },
  {
   "cell_type": "markdown",
   "metadata": {},
   "source": [
    "### Access EKS Cluster"
   ]
  },
  {
   "cell_type": "code",
   "execution_count": null,
   "metadata": {},
   "outputs": [],
   "source": [
    "aws eks update-kubeconfig --region ${EKS_REGION} --name ${EKS_CLUSTER_NAME}"
   ]
  },
  {
   "cell_type": "code",
   "execution_count": null,
   "metadata": {},
   "outputs": [],
   "source": [
    "kubectl get nodes"
   ]
  }
 ],
 "metadata": {
  "kernelspec": {
   "display_name": "Bash",
   "language": "bash",
   "name": "bash"
  },
  "language_info": {
   "codemirror_mode": "shell",
   "file_extension": ".sh",
   "mimetype": "text/x-sh",
   "name": "bash"
  }
 },
 "nbformat": 4,
 "nbformat_minor": 2
}
