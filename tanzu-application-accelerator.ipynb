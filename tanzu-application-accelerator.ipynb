{
 "cells": [
  {
   "cell_type": "markdown",
   "metadata": {},
   "source": [
    "## Use Tanzu Application Accelerator to initialize project\n",
    "\n",
    "1) Create repository in GitHub"
   ]
  },
  {
   "cell_type": "code",
   "execution_count": null,
   "metadata": {},
   "outputs": [],
   "source": [
    "curl -u $GIT_USERNAME:$GIT_TOKEN https://api.github.com/user/repos -d '{\"name\":\"service-pet-clinic\"}'"
   ]
  },
  {
   "cell_type": "markdown",
   "metadata": {},
   "source": [
    "2) Generate project based on *Application Accelerator*\n",
    "Note: Application Accelerator server should be running in your k8s context (*kubectl port-forward service/acc-server -n accelerator-system 8877:80*)"
   ]
  },
  {
   "cell_type": "code",
   "execution_count": null,
   "metadata": {},
   "outputs": [],
   "source": [
    "export ACC_SERVER_URL=http://localhost:8877\n",
    "tanzu accelerator list\n",
    "tanzu accelerator generate spring-petclinic --options '{\"projectName\":\"service-pet-clinic\", \"includeKubernetes\": true}'"
   ]
  },
  {
   "cell_type": "markdown",
   "metadata": {},
   "source": [
    "3) Add generated project to your git repo created in step 1 above."
   ]
  },
  {
   "cell_type": "code",
   "execution_count": null,
   "metadata": {},
   "outputs": [],
   "source": [
    "cd /Users/jigneshsheth/Documents/GitHub\n",
    "unzip service-pet-clinic.zip\n",
    "cd service-pet-clinic\n",
    "rm -rf src\n",
    "cp -r /Users/jigneshsheth/Documents/GitHub/spring-petclinic/src .\n",
    "cp /Users/jigneshsheth/Documents/GitHub/spring-petclinic/pom.xml .\n",
    "git init -b main\n",
    "git add . && git commit -m \"initial commit\"\n",
    "git remote add origin git@github.com:jigsheth57/service-pet-clinic.git\n",
    "git push -u origin main"
   ]
  },
  {
   "cell_type": "code",
   "execution_count": null,
   "metadata": {},
   "outputs": [],
   "source": []
  }
 ],
 "metadata": {
  "kernelspec": {
   "display_name": "Bash",
   "language": "bash",
   "name": "bash"
  },
  "language_info": {
   "codemirror_mode": "shell",
   "file_extension": ".sh",
   "mimetype": "text/x-sh",
   "name": "bash"
  }
 },
 "nbformat": 4,
 "nbformat_minor": 2
}
